{
 "cells": [
  {
   "cell_type": "code",
   "execution_count": 2,
   "id": "bfe4a83a",
   "metadata": {},
   "outputs": [],
   "source": [
    "from textblob import TextBlob, Word\n",
    "from textblob.taggers import NLTKTagger\n",
    "tagger = NLTKTagger()"
   ]
  },
  {
   "cell_type": "code",
   "execution_count": 4,
   "id": "c296c328",
   "metadata": {},
   "outputs": [],
   "source": [
    "sent1 = \"The food was very bad\"\n",
    "output = TextBlob(sent1)"
   ]
  },
  {
   "cell_type": "code",
   "execution_count": 7,
   "id": "8bce8aff",
   "metadata": {},
   "outputs": [
    {
     "data": {
      "text/plain": [
       "Sentiment(polarity=-0.9099999999999998, subjectivity=0.8666666666666667)"
      ]
     },
     "execution_count": 7,
     "metadata": {},
     "output_type": "execute_result"
    }
   ],
   "source": [
    "output.sentiment"
   ]
  },
  {
   "cell_type": "code",
   "execution_count": 8,
   "id": "8a0b5363",
   "metadata": {},
   "outputs": [
    {
     "data": {
      "text/plain": [
       "Sentiment(polarity=-0.9099999999999998, subjectivity=0.8666666666666667, assessments=[(['very', 'bad'], -0.9099999999999998, 0.8666666666666667, None)])"
      ]
     },
     "execution_count": 8,
     "metadata": {},
     "output_type": "execute_result"
    }
   ],
   "source": [
    "output.sentiment_assessments"
   ]
  },
  {
   "cell_type": "code",
   "execution_count": 24,
   "id": "5dc4c944",
   "metadata": {},
   "outputs": [
    {
     "name": "stderr",
     "output_type": "stream",
     "text": [
      "[nltk_data] Downloading package wordnet to\n",
      "[nltk_data]     C:\\Users\\irg\\AppData\\Roaming\\nltk_data...\n",
      "[nltk_data]   Package wordnet is already up-to-date!\n"
     ]
    },
    {
     "data": {
      "text/plain": [
       "'frighten'"
      ]
     },
     "execution_count": 24,
     "metadata": {},
     "output_type": "execute_result"
    }
   ],
   "source": [
    "import nltk\n",
    "nltk.download('wordnet')\n",
    "\n",
    "a = Word(\"frightened\")\n",
    "a.lemmatize(\"v\")"
   ]
  },
  {
   "cell_type": "code",
   "execution_count": 30,
   "id": "b832c393",
   "metadata": {},
   "outputs": [
    {
     "name": "stderr",
     "output_type": "stream",
     "text": [
      "[nltk_data] Downloading package punkt to\n",
      "[nltk_data]     C:\\Users\\irg\\AppData\\Roaming\\nltk_data...\n",
      "[nltk_data]   Package punkt is already up-to-date!\n"
     ]
    }
   ],
   "source": [
    "import nltk\n",
    "nltk.download('punkt')\n",
    "\n",
    "lst = output.words"
   ]
  },
  {
   "cell_type": "code",
   "execution_count": 31,
   "id": "f60f455b",
   "metadata": {},
   "outputs": [
    {
     "name": "stdout",
     "output_type": "stream",
     "text": [
      "The\n",
      "food\n",
      "was\n",
      "very\n",
      "bad\n"
     ]
    }
   ],
   "source": [
    "for i in lst:\n",
    "    print(i)"
   ]
  },
  {
   "cell_type": "code",
   "execution_count": 35,
   "id": "94ceae2d",
   "metadata": {},
   "outputs": [],
   "source": [
    "spl = sent1.split()"
   ]
  },
  {
   "cell_type": "code",
   "execution_count": 33,
   "id": "584c473d",
   "metadata": {},
   "outputs": [
    {
     "data": {
      "text/plain": [
       "'The food was very bad'"
      ]
     },
     "execution_count": 33,
     "metadata": {},
     "output_type": "execute_result"
    }
   ],
   "source": [
    "\" \".join(sent1.split())"
   ]
  },
  {
   "cell_type": "code",
   "execution_count": 36,
   "id": "da35d487",
   "metadata": {},
   "outputs": [
    {
     "name": "stdout",
     "output_type": "stream",
     "text": [
      "The\n",
      "food\n",
      "was\n",
      "very\n",
      "bad\n"
     ]
    }
   ],
   "source": [
    "for i in spl:\n",
    "    print(i)"
   ]
  },
  {
   "cell_type": "code",
   "execution_count": null,
   "id": "4c823014",
   "metadata": {},
   "outputs": [],
   "source": []
  }
 ],
 "metadata": {
  "kernelspec": {
   "display_name": "Python 3 (ipykernel)",
   "language": "python",
   "name": "python3"
  },
  "language_info": {
   "codemirror_mode": {
    "name": "ipython",
    "version": 3
   },
   "file_extension": ".py",
   "mimetype": "text/x-python",
   "name": "python",
   "nbconvert_exporter": "python",
   "pygments_lexer": "ipython3",
   "version": "3.9.7"
  }
 },
 "nbformat": 4,
 "nbformat_minor": 5
}
