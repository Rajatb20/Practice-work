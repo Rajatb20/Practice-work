{
 "cells": [
  {
   "cell_type": "markdown",
   "id": "4fb908b7",
   "metadata": {},
   "source": [
    "#  STACK"
   ]
  },
  {
   "cell_type": "code",
   "execution_count": 1,
   "id": "53c3ff82",
   "metadata": {},
   "outputs": [],
   "source": [
    "import collections"
   ]
  },
  {
   "cell_type": "code",
   "execution_count": 2,
   "id": "d6c3c7da",
   "metadata": {},
   "outputs": [],
   "source": [
    "stack = collections.deque()"
   ]
  },
  {
   "cell_type": "code",
   "execution_count": 5,
   "id": "c8718c3b",
   "metadata": {},
   "outputs": [],
   "source": [
    "stack.append(20)\n",
    "stack.append(10)"
   ]
  },
  {
   "cell_type": "code",
   "execution_count": 6,
   "id": "61b30e5b",
   "metadata": {},
   "outputs": [
    {
     "data": {
      "text/plain": [
       "deque([20, 20, 10])"
      ]
     },
     "execution_count": 6,
     "metadata": {},
     "output_type": "execute_result"
    }
   ],
   "source": [
    "stack"
   ]
  },
  {
   "cell_type": "code",
   "execution_count": 8,
   "id": "35d725b0",
   "metadata": {},
   "outputs": [
    {
     "data": {
      "text/plain": [
       "10"
      ]
     },
     "execution_count": 8,
     "metadata": {},
     "output_type": "execute_result"
    }
   ],
   "source": [
    "stack.pop()"
   ]
  },
  {
   "cell_type": "code",
   "execution_count": 9,
   "id": "cbfc29a7",
   "metadata": {},
   "outputs": [
    {
     "data": {
      "text/plain": [
       "20"
      ]
     },
     "execution_count": 9,
     "metadata": {},
     "output_type": "execute_result"
    }
   ],
   "source": [
    "stack.pop()"
   ]
  },
  {
   "cell_type": "code",
   "execution_count": 10,
   "id": "dacd9fee",
   "metadata": {},
   "outputs": [
    {
     "data": {
      "text/plain": [
       "False"
      ]
     },
     "execution_count": 10,
     "metadata": {},
     "output_type": "execute_result"
    }
   ],
   "source": [
    "not stack"
   ]
  },
  {
   "cell_type": "code",
   "execution_count": 11,
   "id": "28a61f8a",
   "metadata": {},
   "outputs": [
    {
     "data": {
      "text/plain": [
       "20"
      ]
     },
     "execution_count": 11,
     "metadata": {},
     "output_type": "execute_result"
    }
   ],
   "source": [
    "stack[-1]"
   ]
  },
  {
   "cell_type": "markdown",
   "id": "4907bc5f",
   "metadata": {},
   "source": [
    "# Linked List\n"
   ]
  },
  {
   "cell_type": "code",
   "execution_count": 2,
   "id": "10da7470",
   "metadata": {},
   "outputs": [],
   "source": [
    "class Node:\n",
    "    def __init__(self, data):\n",
    "        self.data = data\n",
    "        self.ref = None\n",
    "\n",
    "class LinkedList:                  \n",
    "    def __init__(self):\n",
    "        self.head = None\n",
    "\n",
    "    def print(self):                        #Traversel\n",
    "        n = self.head\n",
    "        if n is None:\n",
    "            print(\"Linked list is empty\")\n",
    "        else:\n",
    "            while n is not None:\n",
    "                print(n.data,\"-->\",end = \" \")\n",
    "                n = n.ref\n",
    "                \n",
    "    def enter_at_start(self,data):           #Insertion\n",
    "        n1 = Node(data)\n",
    "        n1.ref = self.head\n",
    "        self.head = n1\n",
    "        \n",
    "        \n",
    "    def add_at_end(self,data):\n",
    "        n2 = Node(data)\n",
    "        if self.head is None:\n",
    "            self.head = n2\n",
    "        else:\n",
    "            n = self.head\n",
    "            while n.ref is not None:\n",
    "                n = n.ref\n",
    "            n.ref = n2  \n",
    "            \n",
    "    def add_after(self,data,x):\n",
    "        while self.head is not None:\n",
    "            if x == self.head.data:\n",
    "                break\n",
    "            self.head = self.head.ref\n",
    "        if self.head is None:\n",
    "            print(\"no item found\")\n",
    "        else:\n",
    "            n1 = Node(data)\n",
    "            n1.ref = self.head.ref\n",
    "            self.head.ref = n1\n",
    "        \n",
    "    def add_before(self,data,x):\n",
    "        n = self.head\n",
    "        if n is None:\n",
    "            print(\"linked list is empty\")\n",
    "            return\n",
    "        elif x == n.data:\n",
    "            n1 = Node(data)\n",
    "            n1.ref = n\n",
    "            n = n1\n",
    "            return\n",
    "        while n.ref is not None:\n",
    "            if n.ref.data == x:\n",
    "                break\n",
    "            n = n.ref\n",
    "        if n.ref is None:\n",
    "            print(\"Node not Found\")\n",
    "        else:\n",
    "            n1 = Node(data)\n",
    "            n1.ref = n.ref\n",
    "            n.ref = n1\n",
    "            \n",
    "    def insert_when_empty(self,data):\n",
    "        if self.head is None:\n",
    "            n1 = Node(data)\n",
    "            self.head = n1\n",
    "        else:\n",
    "            print(\"linked list is not empty\")\n",
    "            \n",
    "    def delete_first(self):                             #Deletion\n",
    "        if self.head is None:\n",
    "            print(\"linked list is not empty\")\n",
    "        else:\n",
    "            self.head = self.head.ref\n",
    "            return\n",
    "        \n",
    "    def delete_last(self):\n",
    "        n = self.head\n",
    "        if n is None:\n",
    "            print(\"linked list is empty\")\n",
    "        elif n.ref is None:\n",
    "            n = None\n",
    "        else:\n",
    "            while n.ref.ref is not None:\n",
    "                n = n.ref\n",
    "                n.ref = None\n",
    "                \n",
    "    def delete_any(self,x):\n",
    "        n = self.head\n",
    "        if n is None:\n",
    "            print(\"linked list is empty\")\n",
    "        if n.data == x:\n",
    "            n = n.ref\n",
    "        while n.ref is not None:\n",
    "            if x == n.ref.data:\n",
    "                break\n",
    "            n = n.ref\n",
    "        if n.ref is None:\n",
    "            print(\"Node is not present\")\n",
    "        else:\n",
    "            n.ref = n.ref.ref\n",
    "          "
   ]
  },
  {
   "cell_type": "code",
   "execution_count": 117,
   "id": "ecc5449c",
   "metadata": {},
   "outputs": [],
   "source": [
    "l1 = LinkedList()"
   ]
  },
  {
   "cell_type": "code",
   "execution_count": 111,
   "id": "ac0aff7b",
   "metadata": {},
   "outputs": [
    {
     "name": "stdout",
     "output_type": "stream",
     "text": [
      "Linked list is empty\n"
     ]
    }
   ],
   "source": [
    "l1.print()"
   ]
  },
  {
   "cell_type": "code",
   "execution_count": 112,
   "id": "a53de245",
   "metadata": {},
   "outputs": [],
   "source": [
    "l1.enter_at_start(10)"
   ]
  },
  {
   "cell_type": "code",
   "execution_count": 113,
   "id": "20733c9b",
   "metadata": {},
   "outputs": [
    {
     "name": "stdout",
     "output_type": "stream",
     "text": [
      "10 --> "
     ]
    }
   ],
   "source": [
    "l1.print()"
   ]
  },
  {
   "cell_type": "code",
   "execution_count": 56,
   "id": "1bfce059",
   "metadata": {},
   "outputs": [],
   "source": [
    "l1.enter_at_start(40)"
   ]
  },
  {
   "cell_type": "code",
   "execution_count": 21,
   "id": "352d7146",
   "metadata": {},
   "outputs": [
    {
     "name": "stdout",
     "output_type": "stream",
     "text": [
      "40 --> 10 --> "
     ]
    }
   ],
   "source": [
    "l1.print()"
   ]
  },
  {
   "cell_type": "code",
   "execution_count": 118,
   "id": "709a1d23",
   "metadata": {},
   "outputs": [],
   "source": [
    "l1.add_at_end(100)"
   ]
  },
  {
   "cell_type": "code",
   "execution_count": 119,
   "id": "762a189b",
   "metadata": {},
   "outputs": [
    {
     "name": "stdout",
     "output_type": "stream",
     "text": [
      "100 --> "
     ]
    }
   ],
   "source": [
    "l1.print()"
   ]
  },
  {
   "cell_type": "code",
   "execution_count": 105,
   "id": "225e281b",
   "metadata": {},
   "outputs": [],
   "source": [
    "l1.add_after(25,10)"
   ]
  },
  {
   "cell_type": "code",
   "execution_count": 25,
   "id": "fbc70d8c",
   "metadata": {},
   "outputs": [
    {
     "name": "stdout",
     "output_type": "stream",
     "text": [
      "10 --> 25 --> 100 --> "
     ]
    }
   ],
   "source": [
    "l1.print()"
   ]
  },
  {
   "cell_type": "code",
   "execution_count": 26,
   "id": "1b493f94",
   "metadata": {},
   "outputs": [],
   "source": [
    "l1.add_before(20,25)"
   ]
  },
  {
   "cell_type": "code",
   "execution_count": 27,
   "id": "ada5a207",
   "metadata": {},
   "outputs": [
    {
     "name": "stdout",
     "output_type": "stream",
     "text": [
      "10 --> 20 --> 25 --> 100 --> "
     ]
    }
   ],
   "source": [
    "l1.print()"
   ]
  },
  {
   "cell_type": "code",
   "execution_count": 37,
   "id": "051ec103",
   "metadata": {},
   "outputs": [],
   "source": [
    "l1.insert_when_empty(20)"
   ]
  },
  {
   "cell_type": "code",
   "execution_count": 92,
   "id": "00562370",
   "metadata": {},
   "outputs": [
    {
     "name": "stdout",
     "output_type": "stream",
     "text": [
      "10 --> 25 --> 100 --> "
     ]
    }
   ],
   "source": [
    "l1.print()"
   ]
  },
  {
   "cell_type": "code",
   "execution_count": 39,
   "id": "bf4dd1a1",
   "metadata": {},
   "outputs": [
    {
     "name": "stdout",
     "output_type": "stream",
     "text": [
      "linked list is not empty\n"
     ]
    }
   ],
   "source": [
    "l1.insert_when_empty(30)"
   ]
  },
  {
   "cell_type": "code",
   "execution_count": 59,
   "id": "500182f7",
   "metadata": {},
   "outputs": [],
   "source": [
    "l1.delete_first()"
   ]
  },
  {
   "cell_type": "code",
   "execution_count": 106,
   "id": "81bc2942",
   "metadata": {},
   "outputs": [
    {
     "name": "stdout",
     "output_type": "stream",
     "text": [
      "10 --> 25 --> 100 --> "
     ]
    }
   ],
   "source": [
    "l1.print()"
   ]
  },
  {
   "cell_type": "code",
   "execution_count": 97,
   "id": "9c3ad3e1",
   "metadata": {},
   "outputs": [],
   "source": [
    "l1.delete_last()"
   ]
  },
  {
   "cell_type": "code",
   "execution_count": 98,
   "id": "d89daad1",
   "metadata": {},
   "outputs": [
    {
     "name": "stdout",
     "output_type": "stream",
     "text": [
      "10 --> 25 --> "
     ]
    }
   ],
   "source": [
    "l1.print()"
   ]
  },
  {
   "cell_type": "code",
   "execution_count": 120,
   "id": "a069373f",
   "metadata": {},
   "outputs": [],
   "source": [
    "l1.delete_last()"
   ]
  },
  {
   "cell_type": "code",
   "execution_count": 121,
   "id": "3df8a08b",
   "metadata": {},
   "outputs": [
    {
     "name": "stdout",
     "output_type": "stream",
     "text": [
      "100 --> "
     ]
    }
   ],
   "source": [
    "l1.print()"
   ]
  },
  {
   "cell_type": "markdown",
   "id": "4ee7b690",
   "metadata": {},
   "source": [
    "# Doubly Linked List"
   ]
  },
  {
   "cell_type": "code",
   "execution_count": 3,
   "id": "f988f580",
   "metadata": {},
   "outputs": [],
   "source": [
    "class Node:\n",
    "    def __init__(self, data):\n",
    "        self.data = data\n",
    "        self.pref = None\n",
    "        self.nref = None\n",
    "\n",
    "class DoublyLinkedList:                  #Traversel\n",
    "    def __init__(self):\n",
    "        self.head = None\n",
    "        \n",
    "    def print_DLL(self):                        #Forward Traversel\n",
    "        n = self.head\n",
    "        if n is None:\n",
    "            print(\"Linked list is empty\")\n",
    "        else:\n",
    "            while n is not None:\n",
    "                print(n.data,\"-->\",end = \" \")\n",
    "                n = n.nref\n",
    "                \n",
    "    def print_DLL_reverse(self):                   #Reverse Traversel\n",
    "        n = self.head\n",
    "        if n is None:\n",
    "            print(\"Linked list is empty\")\n",
    "        else:\n",
    "            while n.nref is not None:\n",
    "                n = n.nref\n",
    "            while n is not None:\n",
    "                print(n.data,\"<--\",end = \" \")\n",
    "                n = n.pref"
   ]
  },
  {
   "cell_type": "code",
   "execution_count": 4,
   "id": "d0943c73",
   "metadata": {},
   "outputs": [],
   "source": [
    "dll1 = DoublyLinkedList()"
   ]
  },
  {
   "cell_type": "code",
   "execution_count": 7,
   "id": "db072856",
   "metadata": {},
   "outputs": [
    {
     "name": "stdout",
     "output_type": "stream",
     "text": [
      "Linked list is empty\n"
     ]
    }
   ],
   "source": [
    "dll1.print_DLL()"
   ]
  },
  {
   "cell_type": "code",
   "execution_count": null,
   "id": "2cd7feba",
   "metadata": {},
   "outputs": [],
   "source": []
  }
 ],
 "metadata": {
  "kernelspec": {
   "display_name": "Python 3 (ipykernel)",
   "language": "python",
   "name": "python3"
  },
  "language_info": {
   "codemirror_mode": {
    "name": "ipython",
    "version": 3
   },
   "file_extension": ".py",
   "mimetype": "text/x-python",
   "name": "python",
   "nbconvert_exporter": "python",
   "pygments_lexer": "ipython3",
   "version": "3.9.7"
  }
 },
 "nbformat": 4,
 "nbformat_minor": 5
}
